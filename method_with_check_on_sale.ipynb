{
 "nbformat": 4,
 "nbformat_minor": 2,
 "metadata": {
  "language_info": {
   "name": "python",
   "codemirror_mode": {
    "name": "ipython",
    "version": 3
   },
   "version": "3.7.7-final"
  },
  "orig_nbformat": 2,
  "file_extension": ".py",
  "mimetype": "text/x-python",
  "name": "python",
  "npconvert_exporter": "python",
  "pygments_lexer": "ipython3",
  "version": 3,
  "kernelspec": {
   "name": "python37764bitmyenvconda9f26a94566d44e77b475cb44cc3fac15",
   "display_name": "Python 3.7.7 64-bit ('myenv': conda)"
  }
 },
 "cells": [
  {
   "cell_type": "code",
   "execution_count": 88,
   "metadata": {},
   "outputs": [],
   "source": [
    "import pandas as pd"
   ]
  },
  {
   "cell_type": "code",
   "execution_count": 89,
   "metadata": {},
   "outputs": [],
   "source": [
    "cars_in_showroom = pd.read_csv(r'C:\\Users\\karol\\OneDrive\\Pulpit\\cars_in_catalog.csv', squeeze=True, sep=';') "
   ]
  },
  {
   "cell_type": "code",
   "execution_count": 90,
   "metadata": {},
   "outputs": [],
   "source": [
    "def check_on_sale(max_price=0, color=0, all =\"Yes\"):\n",
    "    \n",
    "    if all == \"Yes\":\n",
    "        result = cars_in_showroom['IsOnSale']\n",
    "    elif max_price > 0 and type(color) == str:\n",
    "        result = cars_in_showroom.where(cars_in_showroom['Price'] < max_price & cars_in_showroom['Color'] == color)\n",
    "    elif max_price > 0 and color == 0:\n",
    "        result = check_on_sale.where(check_on_sale['Price'] < max_price)\n",
    "    elif max_price == 0 and type(color) == str:\n",
    "        result = check_on_sale.where(['Color'] == color)\n",
    "    return cars_in_showroom.where(result).dropna(how='all')"
   ]
  },
  {
   "cell_type": "code",
   "execution_count": null,
   "metadata": {},
   "outputs": [],
   "source": []
  }
 ]
}